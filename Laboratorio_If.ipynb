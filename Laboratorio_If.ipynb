{
  "nbformat": 4,
  "nbformat_minor": 0,
  "metadata": {
    "colab": {
      "name": "Laboratorio If.ipynb",
      "provenance": [],
      "authorship_tag": "ABX9TyP5fbCpXH3+HaCYfqL9ccao",
      "include_colab_link": true
    },
    "kernelspec": {
      "name": "python3",
      "display_name": "Python 3"
    }
  },
  "cells": [
    {
      "cell_type": "markdown",
      "metadata": {
        "id": "view-in-github",
        "colab_type": "text"
      },
      "source": [
        "<a href=\"https://colab.research.google.com/github/danielavburgos/markdown-here/blob/master/Laboratorio_If.ipynb\" target=\"_parent\"><img src=\"https://colab.research.google.com/assets/colab-badge.svg\" alt=\"Open In Colab\"/></a>"
      ]
    },
    {
      "cell_type": "markdown",
      "metadata": {
        "id": "jiP2cDGji8pv"
      },
      "source": [
        "**Dinámica 1: Escribiendo un programa que te de acceso a un sistema** "
      ]
    },
    {
      "cell_type": "code",
      "metadata": {
        "id": "bvI_M9CejDaU",
        "outputId": "e4bc83a2-f2e7-4bb2-adb4-6ca90846b518",
        "colab": {
          "base_uri": "https://localhost:8080/",
          "height": 50
        }
      },
      "source": [
        "contraseña = input(\"Escribe la contraseña: \")\n",
        "if contraseña == \"123\":\n",
        "  print(\"Bienvenido\")\n",
        "else:\n",
        "  print(\"Contraseña no válida\")\n",
        "\n"
      ],
      "execution_count": 8,
      "outputs": [
        {
          "output_type": "stream",
          "text": [
            "Escribe la contraseña: 123\n",
            "Bienvenido\n"
          ],
          "name": "stdout"
        }
      ]
    },
    {
      "cell_type": "markdown",
      "metadata": {
        "id": "Os66bhWImvEr"
      },
      "source": [
        "**Dinámica 2: Escribiendo un programa que convierta temperaturas**\n"
      ]
    },
    {
      "cell_type": "code",
      "metadata": {
        "id": "Z1ELZHDyjYv-",
        "outputId": "53b449e2-2434-4deb-f624-f360c4a7d415",
        "colab": {
          "base_uri": "https://localhost:8080/",
          "height": 83
        }
      },
      "source": [
        "grados = input(\"Ingresa el número del dato que tengas: 1) Celcius    2) Kelvin    3)Fahrenheit: \" )\n",
        "if grados == \"1\":\n",
        "  temperatura_1 = float(input(\"Ingresa grados Celcius: \"))\n",
        "  print(\"Grados Fahrenheit: \",temperatura_1*1.8+32)\n",
        "  print(\"Grados Kelvin: \",temperatura_1 + 273.15)\n",
        "elif grados == \"2\":\n",
        "  temperatura_2 = float(input(\"Ingresa grados Kelvin: \"))\n",
        "  print(\"Grados Fahrenheit: \",temperatura_2 - 273.15 * 9/5 + 32 )\n",
        "  print(\"Grados Celcius: \",temperatura_2-273.15)\n",
        "elif grados == \"3\":\n",
        "  temperatura_3 = float(input(\"Ingresa grados Fahrenheit: \"))\n",
        "  print(\"Grados Celcius: \",temperatura_3 -32*1.8)\n",
        "  print(\"Grados Kelvin: \",temperatura_3- 32 * 1.8 + 273.15 )  \n",
        "else:\n",
        "  print(\"Número no válido\")\n"
      ],
      "execution_count": 2,
      "outputs": [
        {
          "output_type": "stream",
          "text": [
            "Ingresa la letra del dato que tengas: 1) Celcius    2) Kelvin    3)Fahrenheit: 2\n",
            "Ingresa grados Kelvin: 212\n",
            "Grados Fahrenheit:  -247.66999999999996\n",
            "Grados Celcius:  -61.14999999999998\n"
          ],
          "name": "stdout"
        }
      ]
    },
    {
      "cell_type": "markdown",
      "metadata": {
        "id": "dYcAlyOGngFH"
      },
      "source": [
        "**Dinámica 3: Elaborar un programa que calcule áras**"
      ]
    },
    {
      "cell_type": "code",
      "metadata": {
        "id": "coRyNy5bnjW3",
        "outputId": "c0de4237-8c31-4500-b5e0-8a633f2a1847",
        "colab": {
          "base_uri": "https://localhost:8080/",
          "height": 67
        }
      },
      "source": [
        "figura = input(\"¿De qué figura quieres calcular el área? 1) Círculo 2) Cuadrado 3) Triángulo: \")\n",
        "if figura == \"1\":\n",
        "  radio = float(input(\"Ingresa el radio del círculo: \"))\n",
        "  from math import pi\n",
        "  print(\"El área del círculo es: \", pi*radio*radio)\n",
        "elif figura == \"2\":\n",
        "  lado = float(input(\"Ingresa el lado del cuadrado: \"))\n",
        "  print(\"El área del cuadrado es: \",lado*lado)\n",
        "elif figura == \"3\":\n",
        "  base = float(input(\"Ingresa las medidas de la base: \"))\n",
        "  altura = float(input(\"Ingresa las medidas de la altura: \"))\n",
        "  print(\"El área del triángulo es: \", base*altura/2)\n",
        "else:\n",
        "  print(\"El número no es válido\")"
      ],
      "execution_count": 7,
      "outputs": [
        {
          "output_type": "stream",
          "text": [
            "¿De qué figura quieres calcular el área? 1) Círculo 2) Cuadrado 3) Triángulo: 1\n",
            "Ingresa el radio del círculo: 5\n",
            "El área del círculo es:  78.53981633974483\n"
          ],
          "name": "stdout"
        }
      ]
    }
  ]
}